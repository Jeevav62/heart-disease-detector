{
  "cells": [
    {
      "cell_type": "code",
      "execution_count": null,
      "metadata": {
        "colab": {
          "base_uri": "https://localhost:8080/"
        },
        "id": "OBVJlPUt2QuV",
        "outputId": "ab48a039-00d4-474d-b80c-6b2de57c176c"
      },
      "outputs": [
        {
          "name": "stdout",
          "output_type": "stream",
          "text": [
            "Accuracy: 88.33%\n"
          ]
        }
      ],
      "source": [
        "\n",
        "import pandas as pd\n",
        "from sklearn.preprocessing import LabelEncoder\n",
        "from xgboost import XGBClassifier\n",
        "from sklearn.model_selection import train_test_split\n",
        "from sklearn.metrics import accuracy_score\n",
        "\n",
        "df = pd.read_csv(\"/content/heart_disease_uci.csv\")\n",
        "df.dropna(inplace=True)\n",
        "\n",
        "\n",
        "le = LabelEncoder()\n",
        "categorical_cols = ['sex', 'cp', 'fbs', 'restecg', 'exang', 'slope', 'thal']\n",
        "for i in categorical_cols:\n",
        "    df[i] = le.fit_transform(df[i])\n",
        "\n",
        "\n",
        "x = df.drop(columns=[\"id\", \"num\",'dataset'])\n",
        "\n",
        "y = (df[\"num\"] > 0).astype(int)\n",
        "\n",
        "\n",
        "x_train, x_test, y_train, y_test = train_test_split(x, y, test_size=0.2, random_state=42)\n",
        "\n",
        "\n",
        "# XGB\n",
        "a = XGBClassifier(\n",
        "    n_estimators=300,\n",
        "    max_depth=5,\n",
        "    learning_rate=0.05,\n",
        "    subsample=0.8,\n",
        "    colsample_bytree=0.8,\n",
        "    random_state=42\n",
        ")\n",
        "a.fit(x_train, y_train)\n",
        "b=a.predict(x_test)\n",
        "acc_xgb = accuracy_score(y_test,b)\n",
        "\n",
        "print(f\"Accuracy: {acc_xgb * 100:.2f}%\")\n"
      ]
    },
    {
      "cell_type": "code",
      "execution_count": 4,
      "metadata": {
        "id": "7PdFAX0DA6dQ"
      },
      "outputs": [],
      "source": [
        "import pickle\n",
        "with open('model.pkl','wb') as file:\n",
        "    pickle.dump(a, file)"
      ]
    },
    {
      "cell_type": "code",
      "execution_count": 5,
      "metadata": {
        "colab": {
          "base_uri": "https://localhost:8080/"
        },
        "id": "43IDxM3-QeSW",
        "outputId": "f1b95df7-8c1e-49e3-bec8-aba649c910a0"
      },
      "outputs": [
        {
          "name": "stdout",
          "output_type": "stream",
          "text": [
            "Defaulting to user installation because normal site-packages is not writeable\n",
            "Requirement already satisfied: streamlit in c:\\users\\jeevarathinam\\appdata\\roaming\\python\\python313\\site-packages (1.48.0)\n",
            "Requirement already satisfied: altair!=5.4.0,!=5.4.1,<6,>=4.0 in c:\\users\\jeevarathinam\\appdata\\roaming\\python\\python313\\site-packages (from streamlit) (5.5.0)\n",
            "Requirement already satisfied: blinker<2,>=1.5.0 in c:\\users\\jeevarathinam\\appdata\\roaming\\python\\python313\\site-packages (from streamlit) (1.9.0)\n",
            "Requirement already satisfied: cachetools<7,>=4.0 in c:\\users\\jeevarathinam\\appdata\\roaming\\python\\python313\\site-packages (from streamlit) (6.1.0)\n",
            "Requirement already satisfied: click<9,>=7.0 in c:\\users\\jeevarathinam\\appdata\\roaming\\python\\python313\\site-packages (from streamlit) (8.2.1)\n",
            "Requirement already satisfied: numpy<3,>=1.23 in c:\\users\\jeevarathinam\\appdata\\roaming\\python\\python313\\site-packages (from streamlit) (2.3.1)\n",
            "Requirement already satisfied: packaging<26,>=20 in c:\\users\\jeevarathinam\\appdata\\roaming\\python\\python313\\site-packages (from streamlit) (25.0)\n",
            "Requirement already satisfied: pandas<3,>=1.4.0 in c:\\users\\jeevarathinam\\appdata\\roaming\\python\\python313\\site-packages (from streamlit) (2.3.1)\n",
            "Requirement already satisfied: pillow<12,>=7.1.0 in c:\\users\\jeevarathinam\\appdata\\roaming\\python\\python313\\site-packages (from streamlit) (11.3.0)\n",
            "Requirement already satisfied: protobuf<7,>=3.20 in c:\\users\\jeevarathinam\\appdata\\roaming\\python\\python313\\site-packages (from streamlit) (6.31.1)\n",
            "Requirement already satisfied: pyarrow>=7.0 in c:\\users\\jeevarathinam\\appdata\\roaming\\python\\python313\\site-packages (from streamlit) (21.0.0)\n",
            "Requirement already satisfied: requests<3,>=2.27 in c:\\users\\jeevarathinam\\appdata\\roaming\\python\\python313\\site-packages (from streamlit) (2.32.4)\n",
            "Requirement already satisfied: tenacity<10,>=8.1.0 in c:\\users\\jeevarathinam\\appdata\\roaming\\python\\python313\\site-packages (from streamlit) (9.1.2)\n",
            "Requirement already satisfied: toml<2,>=0.10.1 in c:\\users\\jeevarathinam\\appdata\\roaming\\python\\python313\\site-packages (from streamlit) (0.10.2)\n",
            "Requirement already satisfied: typing-extensions<5,>=4.4.0 in c:\\users\\jeevarathinam\\appdata\\roaming\\python\\python313\\site-packages (from streamlit) (4.14.1)\n",
            "Requirement already satisfied: watchdog<7,>=2.1.5 in c:\\users\\jeevarathinam\\appdata\\roaming\\python\\python313\\site-packages (from streamlit) (6.0.0)\n",
            "Requirement already satisfied: gitpython!=3.1.19,<4,>=3.0.7 in c:\\users\\jeevarathinam\\appdata\\roaming\\python\\python313\\site-packages (from streamlit) (3.1.45)\n",
            "Requirement already satisfied: pydeck<1,>=0.8.0b4 in c:\\users\\jeevarathinam\\appdata\\roaming\\python\\python313\\site-packages (from streamlit) (0.9.1)\n",
            "Requirement already satisfied: tornado!=6.5.0,<7,>=6.0.3 in c:\\users\\jeevarathinam\\appdata\\roaming\\python\\python313\\site-packages (from streamlit) (6.5.1)\n",
            "Requirement already satisfied: jinja2 in c:\\users\\jeevarathinam\\appdata\\roaming\\python\\python313\\site-packages (from altair!=5.4.0,!=5.4.1,<6,>=4.0->streamlit) (3.1.6)\n",
            "Requirement already satisfied: jsonschema>=3.0 in c:\\users\\jeevarathinam\\appdata\\roaming\\python\\python313\\site-packages (from altair!=5.4.0,!=5.4.1,<6,>=4.0->streamlit) (4.25.0)\n",
            "Requirement already satisfied: narwhals>=1.14.2 in c:\\users\\jeevarathinam\\appdata\\roaming\\python\\python313\\site-packages (from altair!=5.4.0,!=5.4.1,<6,>=4.0->streamlit) (1.48.0)\n",
            "Requirement already satisfied: colorama in c:\\users\\jeevarathinam\\appdata\\roaming\\python\\python313\\site-packages (from click<9,>=7.0->streamlit) (0.4.6)\n",
            "Requirement already satisfied: gitdb<5,>=4.0.1 in c:\\users\\jeevarathinam\\appdata\\roaming\\python\\python313\\site-packages (from gitpython!=3.1.19,<4,>=3.0.7->streamlit) (4.0.12)\n",
            "Requirement already satisfied: smmap<6,>=3.0.1 in c:\\users\\jeevarathinam\\appdata\\roaming\\python\\python313\\site-packages (from gitdb<5,>=4.0.1->gitpython!=3.1.19,<4,>=3.0.7->streamlit) (5.0.2)\n",
            "Requirement already satisfied: python-dateutil>=2.8.2 in c:\\users\\jeevarathinam\\appdata\\roaming\\python\\python313\\site-packages (from pandas<3,>=1.4.0->streamlit) (2.9.0.post0)\n",
            "Requirement already satisfied: pytz>=2020.1 in c:\\users\\jeevarathinam\\appdata\\roaming\\python\\python313\\site-packages (from pandas<3,>=1.4.0->streamlit) (2025.2)\n",
            "Requirement already satisfied: tzdata>=2022.7 in c:\\users\\jeevarathinam\\appdata\\roaming\\python\\python313\\site-packages (from pandas<3,>=1.4.0->streamlit) (2025.2)\n",
            "Requirement already satisfied: charset_normalizer<4,>=2 in c:\\users\\jeevarathinam\\appdata\\roaming\\python\\python313\\site-packages (from requests<3,>=2.27->streamlit) (3.4.2)\n",
            "Requirement already satisfied: idna<4,>=2.5 in c:\\users\\jeevarathinam\\appdata\\roaming\\python\\python313\\site-packages (from requests<3,>=2.27->streamlit) (3.10)\n",
            "Requirement already satisfied: urllib3<3,>=1.21.1 in c:\\users\\jeevarathinam\\appdata\\roaming\\python\\python313\\site-packages (from requests<3,>=2.27->streamlit) (2.5.0)\n",
            "Requirement already satisfied: certifi>=2017.4.17 in c:\\users\\jeevarathinam\\appdata\\roaming\\python\\python313\\site-packages (from requests<3,>=2.27->streamlit) (2025.7.14)\n",
            "Requirement already satisfied: MarkupSafe>=2.0 in c:\\users\\jeevarathinam\\appdata\\roaming\\python\\python313\\site-packages (from jinja2->altair!=5.4.0,!=5.4.1,<6,>=4.0->streamlit) (3.0.2)\n",
            "Requirement already satisfied: attrs>=22.2.0 in c:\\users\\jeevarathinam\\appdata\\roaming\\python\\python313\\site-packages (from jsonschema>=3.0->altair!=5.4.0,!=5.4.1,<6,>=4.0->streamlit) (25.3.0)\n",
            "Requirement already satisfied: jsonschema-specifications>=2023.03.6 in c:\\users\\jeevarathinam\\appdata\\roaming\\python\\python313\\site-packages (from jsonschema>=3.0->altair!=5.4.0,!=5.4.1,<6,>=4.0->streamlit) (2025.4.1)\n",
            "Requirement already satisfied: referencing>=0.28.4 in c:\\users\\jeevarathinam\\appdata\\roaming\\python\\python313\\site-packages (from jsonschema>=3.0->altair!=5.4.0,!=5.4.1,<6,>=4.0->streamlit) (0.36.2)\n",
            "Requirement already satisfied: rpds-py>=0.7.1 in c:\\users\\jeevarathinam\\appdata\\roaming\\python\\python313\\site-packages (from jsonschema>=3.0->altair!=5.4.0,!=5.4.1,<6,>=4.0->streamlit) (0.27.0)\n",
            "Requirement already satisfied: six>=1.5 in c:\\users\\jeevarathinam\\appdata\\roaming\\python\\python313\\site-packages (from python-dateutil>=2.8.2->pandas<3,>=1.4.0->streamlit) (1.17.0)\n",
            "Note: you may need to restart the kernel to use updated packages.\n"
          ]
        }
      ],
      "source": [
        "pip install streamlit"
      ]
    },
    {
      "cell_type": "code",
      "execution_count": 6,
      "metadata": {
        "colab": {
          "base_uri": "https://localhost:8080/"
        },
        "id": "wauVOtT_Qr6H",
        "outputId": "10893ba3-e383-41fa-9fe7-fb48e58e2f04"
      },
      "outputs": [
        {
          "name": "stdout",
          "output_type": "stream",
          "text": [
            "Overwriting heart_disease.py\n"
          ]
        }
      ],
      "source": [
        "%%writefile heart_disease.py\n",
        "import streamlit as st\n",
        "import pandas as pd\n",
        "import numpy as np\n",
        "import seaborn as sns\n",
        "import matplotlib as plt\n",
        "import pickle\n",
        "with open(\"model.pkl\",\"rb\")as file:\n",
        "  a=pickle.load(file)\n",
        "import streamlit as st\n",
        "import pandas as pd\n",
        "from xgboost import XGBClassifier\n",
        "from sklearn.preprocessing import LabelEncoder\n",
        "\n",
        "st.set_page_config(page_title=\"Heart Disease Risk Predictor\", layout=\"centered\")\n",
        "st.title(\"❤️ Heart Disease Risk Predictor\")\n",
        "\n",
        "# Load and train model\n",
        "@st.cache_data\n",
        "def load_model_and_columns():\n",
        "    df = pd.read_csv(\"/content/heart_disease_uci.csv\")\n",
        "    df.dropna(inplace=True)\n",
        "\n",
        "    le = LabelEncoder()\n",
        "    for col in ['sex', 'cp', 'fbs', 'restecg', 'exang', 'slope', 'thal']:\n",
        "        df[col] = le.fit_transform(df[col])\n",
        "\n",
        "    x = df.drop(columns=[\"id\", \"num\", \"dataset\"])\n",
        "    y = (df[\"num\"] > 0).astype(int)\n",
        "\n",
        "    model = XGBClassifier(\n",
        "        n_estimators=300,\n",
        "        max_depth=5,\n",
        "        learning_rate=0.05,\n",
        "        subsample=0.8,\n",
        "        colsample_bytree=0.8,\n",
        "        random_state=42\n",
        "    )\n",
        "    model.fit(x, y)\n",
        "    return model, x.columns.tolist()\n",
        "\n",
        "model, expected_columns = load_model_and_columns()\n",
        "\n",
        "# Manual mappings\n",
        "sex_map = {\"Male\": 1, \"Female\": 0}\n",
        "cp_map = {\n",
        "    \"Typical Angina\": 0,\n",
        "    \"Atypical Angina\": 1,\n",
        "    \"Non-anginal Pain\": 2,\n",
        "    \"Asymptomatic\": 3\n",
        "}\n",
        "fbs_map = {\"Yes (>120 mg/dl)\": 1, \"No (≤120 mg/dl)\": 0}\n",
        "restecg_map = {\n",
        "    \"Normal\": 0,\n",
        "    \"ST-T Wave Abnormality\": 1,\n",
        "    \"Left Ventricular Hypertrophy\": 2\n",
        "}\n",
        "exang_map = {\"Yes\": 1, \"No\": 0}\n",
        "slope_map = {\n",
        "    \"Upsloping\": 0,\n",
        "    \"Flat\": 1,\n",
        "    \"Downsloping\": 2\n",
        "}\n",
        "thal_map = {\n",
        "    \"Normal\": 1,\n",
        "    \"Fixed Defect\": 2,\n",
        "    \"Reversible Defect\": 3\n",
        "}\n",
        "\n",
        "st.subheader(\"📝 Enter Your Health Details\")\n",
        "\n",
        "with st.form(key=\"predict_form\"):\n",
        "    age = st.slider(\"Age (years)\", 20, 80, 50)\n",
        "    sex = st.selectbox(\"Sex\", list(sex_map.keys()))\n",
        "    cp = st.selectbox(\"Chest Pain Type\", list(cp_map.keys()))\n",
        "    trestbps = st.number_input(\"Resting Blood Pressure (mm Hg)\", 80, 200, 120)\n",
        "    chol = st.number_input(\"Serum Cholesterol (mg/dl)\", 100, 600, 200)\n",
        "    fbs = st.selectbox(\"Fasting Blood Sugar\", list(fbs_map.keys()))\n",
        "    restecg = st.selectbox(\"Resting ECG Results\", list(restecg_map.keys()))\n",
        "    thalach = st.number_input(\"Maximum Heart Rate Achieved\", 60, 220, 150)\n",
        "    exang = st.selectbox(\"Exercise Induced Angina\", list(exang_map.keys()))\n",
        "    oldpeak = st.number_input(\"ST Depression Induced by Exercise\", 0.0, 6.0, 1.0)\n",
        "    slope = st.selectbox(\"Slope of Peak Exercise ST Segment\", list(slope_map.keys()))\n",
        "    ca = st.slider(\"Number of Major Vessels (0–4) Colored by Fluoroscopy\", 0, 4, 0)\n",
        "    thal = st.selectbox(\"Thalassemia Type\", list(thal_map.keys()))\n",
        "\n",
        "    submitted = st.form_submit_button(\"🔍 Predict\")\n",
        "\n",
        "if submitted:\n",
        "    input_dict = {\n",
        "        \"age\": age,\n",
        "        \"sex\": sex_map[sex],\n",
        "        \"cp\": cp_map[cp],\n",
        "        \"trestbps\": trestbps,\n",
        "        \"chol\": chol,\n",
        "        \"fbs\": fbs_map[fbs],\n",
        "        \"restecg\": restecg_map[restecg],\n",
        "        \"thalach\": thalach,\n",
        "        \"exang\": exang_map[exang],\n",
        "        \"oldpeak\": oldpeak,\n",
        "        \"slope\": slope_map[slope],\n",
        "        \"ca\": ca,\n",
        "        \"thal\": thal_map[thal]\n",
        "    }\n",
        "\n",
        "    input_df = pd.DataFrame([input_dict])\n",
        "    input_df = input_df.reindex(columns=expected_columns)\n",
        "\n",
        "    prediction = model.predict(input_df)[0]\n",
        "    confidence = model.predict_proba(input_df)[0][prediction]\n",
        "\n",
        "    st.markdown(\"---\")\n",
        "    st.subheader(\"🧠 Prediction Result\")\n",
        "    if prediction == 1:\n",
        "        st.error(f\"⚠️ Likely to have heart disease.\\nConfidence: {confidence * 100:.2f}%\")\n",
        "    else:\n",
        "        st.success(f\"✅ Unlikely to have heart disease.\\nConfidence: {confidence * 100:.2f}%\")\n",
        "\n",
        "    st.markdown(\"You can change the inputs above and click Predict again to try another case.\")\n",
        "\n",
        "\n",
        "\n"
      ]
    },
    {
      "cell_type": "code",
      "execution_count": null,
      "metadata": {
        "colab": {
          "base_uri": "https://localhost:8080/"
        },
        "id": "_T5rl8SnRykn",
        "outputId": "9c6a4520-d04e-4ec2-c6ba-458b53907541"
      },
      "outputs": [
        {
          "ename": "SyntaxError",
          "evalue": "invalid syntax (462014582.py, line 1)",
          "output_type": "error",
          "traceback": [
            "  \u001b[36mCell\u001b[39m\u001b[36m \u001b[39m\u001b[32mIn[8]\u001b[39m\u001b[32m, line 1\u001b[39m\n\u001b[31m    \u001b[39m\u001b[31mstreamlit run heart_disease.py > /content/logs.txt 2>&1 &\u001b[39m\n              ^\n\u001b[31mSyntaxError\u001b[39m\u001b[31m:\u001b[39m invalid syntax\n"
          ]
        }
      ],
      "source": [
        "!streamlit run heart_disease.py > /content/logs.txt 2>&1 &\n",
        "!curl ipv4.icanhazip.com\n"
      ]
    },
    {
      "cell_type": "code",
      "execution_count": null,
      "metadata": {
        "colab": {
          "base_uri": "https://localhost:8080/"
        },
        "id": "4vTGUqloR7K5",
        "outputId": "9d9eda16-7402-4aff-bee9-bc3ff58c13eb"
      },
      "outputs": [
        {
          "name": "stdout",
          "output_type": "stream",
          "text": [
            "\u001b[1G\u001b[0K⠙\u001b[1G\u001b[0K⠹\u001b[1G\u001b[0K⠸\u001b[1G\u001b[0K⠼\u001b[1G\u001b[0K⠴\u001b[1G\u001b[0K⠦\u001b[1G\u001b[0K⠧\u001b[1G\u001b[0K⠇\u001b[1G\u001b[0K⠏\u001b[1G\u001b[0K⠋\u001b[1G\u001b[0K⠙\u001b[1G\u001b[0K⠹\u001b[1G\u001b[0K⠸\u001b[1G\u001b[0Kyour url is: https://twelve-lemons-notice.loca.lt\n",
            "^C\n"
          ]
        }
      ],
      "source": [
        "!npx localtunnel --port 8501"
      ]
    }
  ],
  "metadata": {
    "colab": {
      "provenance": []
    },
    "kernelspec": {
      "display_name": "Python 3",
      "name": "python3"
    },
    "language_info": {
      "codemirror_mode": {
        "name": "ipython",
        "version": 3
      },
      "file_extension": ".py",
      "mimetype": "text/x-python",
      "name": "python",
      "nbconvert_exporter": "python",
      "pygments_lexer": "ipython3",
      "version": "3.13.5"
    }
  },
  "nbformat": 4,
  "nbformat_minor": 0
}
